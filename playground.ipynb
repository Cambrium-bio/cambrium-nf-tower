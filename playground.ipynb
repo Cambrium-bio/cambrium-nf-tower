{
 "cells": [
  {
   "cell_type": "code",
   "execution_count": null,
   "metadata": {},
   "outputs": [],
   "source": []
  },
  {
   "cell_type": "code",
   "execution_count": null,
   "metadata": {},
   "outputs": [],
   "source": [
    "from tower_submit.db import DatabaseConnection, get_db\n",
    "import pandas as pd\n",
    "\n",
    "# Create a database connection using the utility function\n",
    "db = get_db()\n",
    "\n",
    "if db:\n",
    "    # Example: List all tables\n",
    "    print(\"\\nAvailable tables:\")\n",
    "    results = db.execute_query(\"\"\"\n",
    "        SELECT TABLE_NAME \n",
    "        FROM INFORMATION_SCHEMA.TABLES \n",
    "        WHERE TABLE_SCHEMA = 'PUBLIC'\n",
    "    \"\"\")\n",
    "    \n",
    "    # Convert results to DataFrame for better display\n",
    "    tables_df = pd.DataFrame(results, columns=['TABLE_NAME'])\n",
    "    display(tables_df)\n",
    "\n",
    "    # Example: Query a specific table\n",
    "    # Replace 'your_table' with an actual table name from your database\n",
    "    query = \"SELECT * FROM your_table LIMIT 5\"\n",
    "    results = db.execute_query(query)\n",
    "    if results:\n",
    "        results_df = pd.DataFrame(results)\n",
    "        display(results_df)\n",
    "\n",
    "    # Don't forget to close the connection\n",
    "    db.disconnect()"
   ]
  }
 ],
 "metadata": {
  "language_info": {
   "name": "python"
  }
 },
 "nbformat": 4,
 "nbformat_minor": 2
}
